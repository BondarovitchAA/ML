{
 "cells": [
  {
   "cell_type": "code",
   "execution_count": 65,
   "metadata": {},
   "outputs": [],
   "source": [
    "import numpy as np\n",
    "import csv\n",
    "import random\n",
    "import math\n",
    "import operator\n",
    "import matplotlib.pyplot as plt"
   ]
  },
  {
   "cell_type": "code",
   "execution_count": 25,
   "metadata": {
    "collapsed": true
   },
   "outputs": [],
   "source": [
    "def read_from_file(path):\n",
    "    data = []\n",
    "    with open(path) as f:\n",
    "        reader = csv.reader(f, delimiter=\",\")\n",
    "        for row in reader:\n",
    "            data.append([row[:-1], row[-1]])\n",
    "    for column in range(len(data[0][0])):\n",
    "        for row in data:\n",
    "            row[0][column] = float(row[0][column].strip())\n",
    "    return data\n",
    "\n",
    "\n",
    "def dataset_minmax(dataset):\n",
    "    minmax = list()\n",
    "    for i in range(len(dataset[0][0])):\n",
    "        col_values = [row[0][i] for row in dataset]\n",
    "        value_min = min(col_values)\n",
    "        value_max = max(col_values)\n",
    "        minmax.append([value_min, value_max])\n",
    "    return minmax\n",
    "\n",
    "\n",
    "def normalize_dataset(dataset, minmax):\n",
    "    for row in dataset:\n",
    "        for i in range(len(row[0])):\n",
    "            row[0][i] = (row[0][i] - minmax[i][0]) / (minmax[i][1] - minmax[i][0])\n",
    "\n",
    "def get_actual_data(data, models):\n",
    "    new_data = []\n",
    "    for row in data:\n",
    "        new_row = list(row)\n",
    "        new_row[-1] = 0 if row[-1] == models[0] else 1 if row[-1] == models[1] else 2\n",
    "        new_data.append(new_row)\n",
    "    return new_data"
   ]
  },
  {
   "cell_type": "code",
   "execution_count": 26,
   "metadata": {},
   "outputs": [],
   "source": [
    "file_path = \"irisdata.csv\"\n",
    "data = read_from_file(file_path)\n",
    "minmax = dataset_minmax(data)\n",
    "normalize_dataset(data, minmax)\n",
    "models = ['Iris-setosa', 'Iris-versicolor', 'Iris-virginica']\n",
    "data = get_actual_data(data, models)"
   ]
  },
  {
   "cell_type": "code",
   "execution_count": 68,
   "metadata": {},
   "outputs": [],
   "source": [
    "def partition(data, count_folds, seed=None):\n",
    "    size = math.ceil(len(data) / float(count_folds))\n",
    "    partitions = [[] for i in range(count_folds)]\n",
    "    j = 0\n",
    "\n",
    "    for entry in data:\n",
    "        x = assign(partitions, count_folds, size, seed)\n",
    "        partitions[x].append(entry)\n",
    "\n",
    "    return partitions\n",
    "\n",
    "\n",
    "def assign(partitions, count_folds, size, seed=None):\n",
    "    if seed is not None:\n",
    "        random.Random(seed)\n",
    "    x = random.randint(0,count_folds-1)\n",
    "    while len(partitions[x]) >= size:\n",
    "        x = random.randint(0,count_folds-1)\n",
    "    return x\n",
    "\n",
    "def get_accuracy(actual, predicted):\n",
    "    correct = 0\n",
    "    for i in xrange(len(actual)):\n",
    "        if actual[i] == predicted[i]:\n",
    "            correct += 1\n",
    "    return correct / float(len(actual)) * 100\n",
    "\n",
    "def kfold_cross_validation(features, count_folds, param, number_of_classes,  seed=None):\n",
    "    partitions = partition(features, count_folds, seed)\n",
    "    errors = list()\n",
    "    count_support_vectors = list()\n",
    "    for i in range(count_folds):\n",
    "        train_data = list()\n",
    "        for j in range(count_folds):\n",
    "            if j != i:\n",
    "                train_data.append(partitions[j])\n",
    "        train_data = [item for entry in train_data for item in entry]\n",
    "        test_data = partitions[i]\n",
    "        predicted = knn_classificator(train_data, test_data, param, number_of_classes)\n",
    "        y_test =  [row[1] for row in test_data]\n",
    "        errors.append(get_accuracy(y_test, predicted))\n",
    "    return np.mean(errors)\n",
    "\n",
    "def distance(first, second):\n",
    "    distance = 0\n",
    "    for i in xrange(len(first[0])):\n",
    "        distance += (first[0][i] - second[0][i])**2\n",
    "    distance = math.sqrt(distance)\n",
    "    return distance\n",
    "    \n",
    "def knn_classificator(train_data, test_data, k, number_of_classes):\n",
    "    results = []\n",
    "    for point in test_data:\n",
    "        distances = [[distance(point, train_data[i]), train_data[i][1]] for i in xrange(len(train_data))]\n",
    "        stat = [0 for i in xrange(number_of_classes)]\n",
    "        for d in sorted(distances)[0:k]:\n",
    "            stat[d[1]] += 1\n",
    "        results.append( sorted(zip(stat, range(number_of_classes)), reverse=True)[0][1] )\n",
    "    return results\n",
    "\n",
    "def draw_scores(scores):\n",
    "    x = [score[0] for score in scores]\n",
    "    y = [score[1] for score in scores]\n",
    "    plt.plot(x, y)\n",
    "    plt.show()"
   ]
  },
  {
   "cell_type": "code",
   "execution_count": 54,
   "metadata": {},
   "outputs": [
    {
     "name": "stdout",
     "output_type": "stream",
     "text": [
      "[(1, 95.333333333333343), (2, 94.666666666666657), (3, 95.333333333333343), (4, 94.666666666666671), (5, 96.0), (6, 94.666666666666657), (7, 95.333333333333343), (8, 95.333333333333343), (9, 95.333333333333343), (10, 95.333333333333343), (11, 95.333333333333343), (12, 96.0), (13, 95.333333333333343), (14, 95.333333333333343), (15, 96.0), (16, 96.666666666666671), (17, 96.666666666666671), (18, 96.0), (19, 95.333333333333343), (20, 96.0), (21, 96.000000000000014), (22, 96.0), (23, 95.333333333333343), (24, 95.333333333333329), (25, 94.666666666666671), (26, 95.333333333333343), (27, 94.0), (28, 95.333333333333343), (29, 95.333333333333329), (30, 95.333333333333343), (31, 95.333333333333329), (32, 92.666666666666671), (33, 92.666666666666671), (34, 91.333333333333343), (35, 95.999999999999986), (36, 90.000000000000014), (37, 92.0), (38, 92.666666666666657), (39, 90.666666666666671), (40, 92.666666666666671), (41, 92.666666666666657), (42, 92.666666666666671), (43, 89.333333333333343), (44, 89.333333333333343), (45, 90.666666666666671), (46, 90.0), (47, 90.0), (48, 86.666666666666671), (49, 88.666666666666657), (50, 91.333333333333343), (51, 90.0), (52, 89.333333333333329), (53, 88.000000000000014), (54, 84.666666666666657), (55, 89.333333333333343), (56, 86.666666666666671), (57, 90.000000000000014), (58, 73.999999999999986), (59, 91.333333333333343), (60, 83.333333333333343), (61, 86.0), (62, 87.333333333333343), (63, 88.0), (64, 68.666666666666657), (65, 88.666666666666671), (66, 88.666666666666671), (67, 82.0), (68, 78.666666666666657), (69, 76.000000000000014), (70, 85.333333333333343), (71, 78.666666666666657), (72, 64.666666666666671), (73, 83.333333333333343), (74, 64.666666666666671), (75, 66.000000000000014), (76, 68.0), (77, 62.666666666666671), (78, 56.0), (79, 56.0), (80, 64.666666666666671), (81, 48.0), (82, 47.333333333333329), (83, 43.999999999999993), (84, 54.666666666666664), (85, 52.666666666666664), (86, 58.666666666666671), (87, 43.333333333333329), (88, 44.666666666666664), (89, 52.0), (90, 51.333333333333336), (91, 50.666666666666671), (92, 57.333333333333336), (93, 51.333333333333336), (94, 38.666666666666664), (95, 44.0), (96, 40.666666666666664), (97, 34.666666666666671), (98, 50.000000000000007), (99, 49.999999999999993)]\n"
     ]
    }
   ],
   "source": [
    "count_folds = 5\n",
    "k = 10\n",
    "count_of_classes = 3\n",
    "scores = []\n",
    "for k in xrange(1, 100):\n",
    "    scores.append((k, kfold_cross_validation(data, count_folds, k, count_of_classes)))\n",
    "print scores"
   ]
  },
  {
   "cell_type": "code",
   "execution_count": 70,
   "metadata": {},
   "outputs": [
    {
     "data": {
      "image/png": "[encoded data removed]",
      "text/plain": [
       "<matplotlib.figure.Figure at 0x79a7c88>"
      ]
     },
     "metadata": {},
     "output_type": "display_data"
    },
    {
     "name": "stdout",
     "output_type": "stream",
     "text": [
      "best k:  16  score:  96.6666666667\n"
     ]
    }
   ],
   "source": [
    "draw_scores(scores)\n",
    "max_score = max(scores, key=operator.itemgetter(1))\n",
    "print 'best k: ', max_score[0], ' score: ', max_score[1]"
   ]
  },
  {
   "cell_type": "code",
   "execution_count": null,
   "metadata": {
    "collapsed": true
   },
   "outputs": [],
   "source": []
  }
 ],
 "metadata": {
  "kernelspec": {
   "display_name": "Python 2",
   "language": "python",
   "name": "python2"
  },
  "language_info": {
   "codemirror_mode": {
    "name": "ipython",
    "version": 2
   },
   "file_extension": ".py",
   "mimetype": "text/x-python",
   "name": "python",
   "nbconvert_exporter": "python",
   "pygments_lexer": "ipython2",
   "version": "2.7.13"
  }
 },
 "nbformat": 4,
 "nbformat_minor": 2
}
