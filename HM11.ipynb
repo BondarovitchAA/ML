{
 "cells": [
  {
   "cell_type": "code",
   "execution_count": 1,
   "metadata": {},
   "outputs": [],
   "source": [
    "from sklearn.datasets import fetch_mldata\n",
    "import numpy as np\n",
    "import datetime as dt\n",
    "from sklearn.model_selection import train_test_split\n",
    "from sklearn import metrics\n",
    "import matplotlib.pyplot as plt"
   ]
  },
  {
   "cell_type": "code",
   "execution_count": 2,
   "metadata": {},
   "outputs": [],
   "source": [
    "mnist = fetch_mldata('MNIST original')"
   ]
  },
  {
   "cell_type": "code",
   "execution_count": 3,
   "metadata": {},
   "outputs": [
    {
     "data": {
      "text/plain": [
       "['data', 'COL_NAMES', 'DESCR', 'target']"
      ]
     },
     "execution_count": 3,
     "metadata": {},
     "output_type": "execute_result"
    }
   ],
   "source": [
    "mnist.keys()"
   ]
  },
  {
   "cell_type": "code",
   "execution_count": 4,
   "metadata": {},
   "outputs": [],
   "source": [
    "X, Y = mnist.data / 255.0, mnist.target\n",
    "n = 60000\n",
    "x_train, x_test, y_train, y_test = train_test_split(mnist.data, mnist.target, test_size=10000, random_state=1)"
   ]
  },
  {
   "cell_type": "code",
   "execution_count": 5,
   "metadata": {},
   "outputs": [
    {
     "data": {
      "image/png": "[encoded data removed]",
      "text/plain": [
       "<matplotlib.figure.Figure at 0x97fd5c0>"
      ]
     },
     "metadata": {},
     "output_type": "display_data"
    }
   ],
   "source": [
    "plt.hist(y_train)\n",
    "plt.show()"
   ]
  },
  {
   "cell_type": "code",
   "execution_count": 6,
   "metadata": {},
   "outputs": [
    {
     "name": "stdout",
     "output_type": "stream",
     "text": [
      "Accuracy=0.9797\n"
     ]
    }
   ],
   "source": [
    "#svm poly\n",
    "from sklearn import svm\n",
    "degree = 2\n",
    "svm_classifier = svm.SVC(degree=2, kernel='poly')\n",
    "svm_classifier.fit(x_train, y_train)\n",
    "svm_expected = y_test\n",
    "svm_predicted = svm_classifier.predict(x_test)\n",
    "print(\"Accuracy={}\".format(metrics.accuracy_score(svm_expected, svm_predicted)))"
   ]
  },
  {
   "cell_type": "code",
   "execution_count": 7,
   "metadata": {},
   "outputs": [
    {
     "name": "stdout",
     "output_type": "stream",
     "text": [
      "Accuracy=0.9733\n"
     ]
    }
   ],
   "source": [
    "#knn\n",
    "from sklearn.neighbors import KNeighborsClassifier\n",
    "knn_classifier = KNeighborsClassifier(n_neighbors=3)\n",
    "knn_classifier.fit(x_train, y_train)\n",
    "knn_expected = y_test\n",
    "knn_predicted = knn_classifier.predict(x_test)\n",
    "print \"Accuracy={}\".format(metrics.accuracy_score(knn_expected, knn_predicted))"
   ]
  },
  {
   "cell_type": "code",
   "execution_count": 8,
   "metadata": {},
   "outputs": [
    {
     "name": "stdout",
     "output_type": "stream",
     "text": [
      "Accuracy=0.968\n"
     ]
    }
   ],
   "source": [
    "#random forest\n",
    "from sklearn.ensemble import RandomForestClassifier\n",
    "rf_classifier = RandomForestClassifier(n_estimators=100, n_jobs=-1)\n",
    "rf_classifier.fit(x_train, y_train)\n",
    "rf_expected = y_test\n",
    "rf_predicted = rf_classifier.predict(x_test)\n",
    "print \"Accuracy={}\".format(metrics.accuracy_score(rf_expected, rf_predicted))"
   ]
  },
  {
   "cell_type": "code",
   "execution_count": 9,
   "metadata": {},
   "outputs": [
    {
     "name": "stdout",
     "output_type": "stream",
     "text": [
      "Accuracy=0.98\n"
     ]
    }
   ],
   "source": [
    "#ensemble\n",
    "from sklearn.ensemble import VotingClassifier\n",
    "ensemble_classifier = VotingClassifier(estimators=[('knn', knn_classifier), ('rf', rf_classifier), ('svm', svm_classifier)], voting='hard')\n",
    "ensemble_classifier.fit(x_train, y_train)\n",
    "ensemble_expected = y_test\n",
    "ensemble_predicted = ensemble_classifier.predict(x_test)\n",
    "print \"Accuracy={}\".format(metrics.accuracy_score(ensemble_expected, ensemble_predicted))"
   ]
  },
  {
   "cell_type": "markdown",
   "metadata": {},
   "source": [
    "Итого: Препроцессинг: масштабирование данных. Все данные от 0 до 1. Для обучения было использовано три алгоритма для обучения, Svm с полиномиальным ядром степени 2 (97.97% acc), kNN с параметром 3 (97.33% acc) и randomForest с параметром 100(96.8% acc). Затем был использован VotingClassifier, алгоритм, позволяющий проголосовать за правильное решение в зависимости от ответов различных классификаторов. Итоговая точность полученного решения составляет 98%"
   ]
  },
  {
   "cell_type": "code",
   "execution_count": null,
   "metadata": {
    "collapsed": true
   },
   "outputs": [],
   "source": []
  }
 ],
 "metadata": {
  "kernelspec": {
   "display_name": "Python 2",
   "language": "python",
   "name": "python2"
  },
  "language_info": {
   "codemirror_mode": {
    "name": "ipython",
    "version": 2
   },
   "file_extension": ".py",
   "mimetype": "text/x-python",
   "name": "python",
   "nbconvert_exporter": "python",
   "pygments_lexer": "ipython2",
   "version": "2.7.13"
  }
 },
 "nbformat": 4,
 "nbformat_minor": 2
}
