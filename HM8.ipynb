{
 "cells": [
  {
   "cell_type": "code",
   "execution_count": null,
   "metadata": {
    "collapsed": true
   },
   "outputs": [],
   "source": [
    "from svmutil import *\n",
    "import csv\n",
    "import math\n",
    "import random\n",
    "import subprocess\n",
    "import os\n",
    "import numpy as np\n",
    "import matplotlib.pyplot as plt"
   ]
  },
  {
   "cell_type": "code",
   "execution_count": 38,
   "metadata": {
    "collapsed": true
   },
   "outputs": [],
   "source": [
    "def read_from_file(path):\n",
    "    data = []\n",
    "    with open(path) as f:\n",
    "        reader = csv.reader(f, delimiter=\",\")\n",
    "        for row in reader:\n",
    "            data.append([row[:-1], row[-1]])\n",
    "    for column in range(len(data[0][0])):\n",
    "        for row in data:\n",
    "            row[0][column] = float(row[0][column].strip())\n",
    "    return data\n",
    "\n",
    "\n",
    "def write_data_for_scale(file_name, data):\n",
    "    f = open(file_name, 'w')\n",
    "    for row in data:\n",
    "        line = str(row[-1])\n",
    "        for i in xrange(len(row[0])):\n",
    "                line += ' ' + str(i + 1) + ':' + str(row[0][i])\n",
    "        line = line + '\\n'\n",
    "        f.write(line)\n",
    "    f.close()\n",
    "\n",
    "\n",
    "def get_standard_deviation(y_test, p_labels):\n",
    "    errors = [y_test[i] - p_labels[i] for i in xrange(len(y_test))]\n",
    "    std = np.std(errors)\n",
    "    return std\n",
    "\n",
    "\n",
    "def kfold_cross_validation(params, features, k, seed=None):\n",
    "    partitions = partition(features, k, seed)\n",
    "    errors = list()\n",
    "    count_support_vectors = list()\n",
    "    # Run the algorithm k times, record error each time\n",
    "    for i in range(k):\n",
    "        trainingSet = list()\n",
    "        for j in range(k):\n",
    "            if j != i:\n",
    "                trainingSet.append(partitions[j])\n",
    "\n",
    "        # flatten training set\n",
    "        trainingSet = [item for entry in trainingSet for item in entry]\n",
    "        testSet = partitions[i]\n",
    "        y_train = [row[0] for row in trainingSet]\n",
    "        x_train = [row[1] for row in trainingSet]\n",
    "        # Train and classify model\n",
    "        prob = svm_problem(y_train, x_train)\n",
    "        trainedClassifier = svm_train(prob, params)\n",
    "        y_test = [row[0] for row in testSet]\n",
    "        x_test = [row[1] for row in testSet]\n",
    "        p_labels, p_acc, p_vals = svm_predict(y_test, x_test, trainedClassifier, '-q')\n",
    "        errors.append(p_acc[1])\n",
    "        count_support_vectors.append(trainedClassifier.get_nr_sv())\n",
    "    std = np.std(errors)\n",
    "    mean = np.mean(errors)\n",
    "    count = np.mean(count_support_vectors)\n",
    "    print 'mean:', mean, ' std:', std, ' count vectors: ', count\n",
    "    return mean, std, count\n",
    "\n",
    "\n",
    "def partition(dataSet, k, seed=None):\n",
    "    size = math.ceil(len(dataSet) / float(k))\n",
    "    partitions = [[] for i in range(k)]\n",
    "    j = 0\n",
    "\n",
    "    for entry in dataSet:\n",
    "        x = assign(partitions, k, size, seed)\n",
    "        partitions[x].append(entry)\n",
    "\n",
    "    return partitions\n",
    "\n",
    "\n",
    "def assign(partitions, k, size, seed=None):\n",
    "    if seed is not None:\n",
    "        random.Random(seed)\n",
    "    x = random.randint(0,k-1)\n",
    "    while len(partitions[x]) >= size:\n",
    "        x = random.randint(0,k-1)\n",
    "    return x\n",
    "\n",
    "\n",
    "def scale_data(file_path):\n",
    "    data = read_from_file(file_path)\n",
    "    train_file_name = \"train\"\n",
    "    test_file_name = \"test\"\n",
    "    train = data[:3450]\n",
    "    test = data[3450:]\n",
    "    write_data_for_scale(train_file_name, train)\n",
    "    write_data_for_scale(test_file_name, test)\n",
    "    args = \"svm-scale.exe -l 0 -u 1 -s scale_params \" + train_file_name\n",
    "    fnull = open(os.devnull, 'w')\n",
    "    train_file = open(train_file_name + '.scaled', 'w')\n",
    "    subprocess.call(args, stdout=train_file, stderr=fnull, shell=False)\n",
    "    train_file.close()\n",
    "    test_file = open(test_file_name + \".scaled\", 'w')\n",
    "    args = \"svm-scale.exe -l 0 -u 1 -r scale_params \" + test_file_name\n",
    "    subprocess.call(args, stdout=test_file, stderr=fnull, shell=False)\n",
    "    test_file.close()\n",
    "    fnull.close()"
   ]
  },
  {
   "cell_type": "code",
   "execution_count": 39,
   "metadata": {},
   "outputs": [
    {
     "name": "stdout",
     "output_type": "stream",
     "text": [
      "[[0.0, {1: 0.0176211, 2: 0.0119048, 3: 0.0333333, 36: 0.0735294, 5: 0.0880088, 6: 0.0136054, 8: 0.0429043, 42: 0.00560224, 43: 0.022409, 12: 0.350569, 13: 0.0306306, 16: 0.004, 49: 0.00524515, 50: 0.00471698, 57: 0.0274621, 53: 0.00383142, 55: 0.00162469, 56: 0.00560673, 25: 0.128661, 37: 0.011611}], [0.0, {35: 0.111, 19: 0.1184, 57: 0.00138889, 55: 0.000753552, 56: 0.000700841, 25: 0.106577, 26: 0.133253}], [0.0, {9: 0.220532, 12: 0.119959, 13: 0.209009, 19: 0.0618667, 21: 0.10831, 55: 0.000195982, 56: 0.00020024, 57: 0.000694444, 27: 0.0348035}], [0.0, {10: 0.130913, 12: 0.492244, 52: 0.0136092, 55: 0.0011024, 56: 0.000901081, 57: 0.0010101}], [1.0, {3: 0.0627451, 5: 0.0715072, 6: 0.110544, 7: 0.0440165, 8: 0.0528053, 12: 0.033092, 13: 0.0576577, 45: 0.0149393, 16: 0.016, 17: 0.0448179, 50: 0.0108696, 19: 0.1216, 56: 0.000901081, 21: 0.304388, 55: 0.000484076, 24: 0.0328205, 57: 0.00871212, 53: 0.0264868}], [0.0, {56: 0.00030036, 57: 0.00094697, 55: 0.00022538}], [1.0, {1: 0.0770925, 2: 0.0070028, 3: 0.107843, 5: 0.236524, 6: 0.0255102, 9: 0.0190114, 10: 0.0412541, 11: 0.1341, 12: 0.0879007, 13: 0.045045, 16: 0.0075, 17: 0.0420168, 19: 0.266667, 21: 0.163399, 23: 0.00917431, 24: 0.0820513, 45: 0.00933707, 49: 0.0018244, 50: 0.00358901, 52: 0.00458772, 53: 0.0218224, 54: 0.00108006, 55: 0.00257619, 56: 0.0126151, 57: 0.0388889}], [0.0, {57: 0.000252525, 27: 0.60006}], [0.0, {56: 0.000400481, 57: 0.000883838, 52: 0.037995, 55: 0.00195982}], [1.0, {57: 0.00877525, 2: 0.0245098, 3: 0.0686275, 5: 0.117712, 8: 0.0577558, 10: 0.0588559, 55: 0.00236551, 12: 0.073423, 45: 0.0163399, 50: 0.0238925, 17: 0.0994398, 18: 0.0781078, 19: 0.152, 40: 0.0735294, 21: 0.233427, 23: 0.26055, 56: 0.00240288, 52: 0.00717409, 53: 0.0388139}]]\n"
     ]
    }
   ],
   "source": [
    "scale_data(\"sample.txt\")\n",
    "y_train, x_train = svm_read_problem(\"train.scaled\")\n",
    "y_test, x_test = svm_read_problem(\"test.scaled\")\n",
    "train_data = [[y_train[i], x_train[i]] for i in xrange(len(x_train))]\n",
    "test_data = [[y_test[i], x_test[i]] for i in xrange(len(x_test))]\n",
    "print train_data[0:10]"
   ]
  },
  {
   "cell_type": "code",
   "execution_count": 7,
   "metadata": {
    "collapsed": true
   },
   "outputs": [],
   "source": [
    "def start_calculation(degree):\n",
    "    x = []\n",
    "    top = []\n",
    "    middle = []\n",
    "    bottom = []\n",
    "    for k in xrange(-10, 21):\n",
    "        print 'k:', k\n",
    "        svm_params = svm_parameter('-s 0 -t 1 -q -d ' + str(d) + ' -c ' + str(2**k))\n",
    "        error, std, count = kfold_cross_validation(svm_params, train_data, k_fold_param)\n",
    "        x.append(k)\n",
    "        top.append(error)\n",
    "        middle.append(error)\n",
    "        bottom.append(error)\n",
    "    return x, top, middle, bottom"
   ]
  },
  {
   "cell_type": "code",
   "execution_count": 8,
   "metadata": {
    "collapsed": true
   },
   "outputs": [],
   "source": [
    "def draw_error(x, error_top, error, error_bottom):\n",
    "    plt.figure(1)\n",
    "    plt.subplot(211)\n",
    "    plt.plot(x, error_top)\n",
    "    plt.subplot(211)\n",
    "    plt.plot(x, error)\n",
    "    plt.subplot(211)\n",
    "    plt.plot(x, error_bottom)\n",
    "\n",
    "    plt.show()"
   ]
  },
  {
   "cell_type": "code",
   "execution_count": 9,
   "metadata": {},
   "outputs": [
    {
     "name": "stdout",
     "output_type": "stream",
     "text": [
      "k: -10\n",
      "mean: 0.392753623188  std: 0.0273218196969\n",
      "k: -9\n",
      "mean: 0.392753623188  std: 0.0201339767963\n",
      "k: -8\n",
      "mean: 0.392753623188  std: 0.0240858926499\n",
      "k: -7\n",
      "mean: 0.392753623188  std: 0.025310506082\n",
      "k: -6\n",
      "mean: 0.392753623188  std: 0.0164094838895\n",
      "k: -5\n",
      "mean: 0.392753623188  std: 0.0193248791893\n",
      "k: -4\n",
      "mean: 0.392753623188  std: 0.0179265461983\n",
      "k: -3\n",
      "mean: 0.392753623188  std: 0.0299056838492\n",
      "k: -2\n",
      "mean: 0.392753623188  std: 0.0174033774519\n",
      "k: -1\n",
      "mean: 0.391884057971  std: 0.0185507246377\n",
      "k: 0\n",
      "mean: 0.349855072464  std: 0.0255352283933\n",
      "k: 1\n",
      "mean: 0.202898550725  std: 0.0246291545348\n",
      "k: 2\n",
      "mean: 0.165217391304  std: 0.0203725024821\n",
      "k: 3\n",
      "mean: 0.143188405797  std: 0.0145043431921\n",
      "k: 4\n",
      "mean: 0.125797101449  std: 0.0169112488647\n",
      "k: 5\n",
      "mean: 0.109275362319  std: 0.0164503926071\n",
      "k: 6\n",
      "mean: 0.0968115942029  std: 0.0123792211618\n",
      "k: 7\n",
      "mean: 0.0857971014493  std: 0.0111660059619\n",
      "k: 8\n",
      "mean: 0.0811594202899  std: 0.0130273652488\n",
      "k: 9\n",
      "mean: 0.0765217391304  std: 0.0163556359185\n",
      "k: 10\n",
      "mean: 0.075652173913  std: 0.0151973643234\n",
      "k: 11\n",
      "mean: 0.0698550724638  std: 0.0141079345202\n",
      "k: 12\n",
      "mean: 0.0684057971014  std: 0.01175254199\n",
      "k: 13\n",
      "mean: 0.0663768115942  std: 0.0153623188406\n",
      "k: 14\n",
      "mean: 0.0657971014493  std: 0.0110791390456\n",
      "k: 15\n",
      "mean: 0.0652173913043  std: 0.0141554961705\n",
      "k: 16\n",
      "mean: 0.0698550724638  std: 0.00793271430922\n",
      "k: 17\n",
      "mean: 0.068115942029  std: 0.0118981888416\n",
      "k: 18\n",
      "mean: 0.0704347826087  std: 0.0140243135112\n",
      "k: 19\n",
      "mean: 0.0675362318841  std: 0.0157724844758\n",
      "k: 20\n",
      "mean: 0.0698550724638  std: 0.0123282146772\n"
     ]
    }
   ],
   "source": [
    "k_fold_param = 10\n",
    "d = 1\n",
    "x1, top1, middle1, bottom1 = start_calculation(d)"
   ]
  },
  {
   "cell_type": "code",
   "execution_count": 10,
   "metadata": {},
   "outputs": [
    {
     "data": {
      "image/png": "[encoded data removed]",
      "text/plain": [
       "<matplotlib.figure.Figure at 0x7689cf8>"
      ]
     },
     "metadata": {},
     "output_type": "display_data"
    }
   ],
   "source": [
    "draw_error(x1, top1, middle1, bottom1)"
   ]
  },
  {
   "cell_type": "code",
   "execution_count": 11,
   "metadata": {},
   "outputs": [
    {
     "name": "stdout",
     "output_type": "stream",
     "text": [
      "k: -10\n",
      "mean: 0.392753623188  std: 0.0293097803133\n",
      "k: -9\n",
      "mean: 0.392753623188  std: 0.0232697847379\n",
      "k: -8\n",
      "mean: 0.392753623188  std: 0.0261914172615\n",
      "k: -7\n",
      "mean: 0.392753623188  std: 0.0235924936175\n",
      "k: -6\n",
      "mean: 0.392753623188  std: 0.0245693853076\n",
      "k: -5\n",
      "mean: 0.392753623188  std: 0.0294242162012\n",
      "k: -4\n",
      "mean: 0.392753623188  std: 0.0352921613388\n",
      "k: -3\n",
      "mean: 0.392753623188  std: 0.02242399471\n",
      "k: -2\n",
      "mean: 0.392753623188  std: 0.0166635157702\n",
      "k: -1\n",
      "mean: 0.392753623188  std: 0.0220842175638\n",
      "k: 0\n",
      "mean: 0.392753623188  std: 0.0152415267538\n",
      "k: 1\n",
      "mean: 0.392753623188  std: 0.0192813546314\n",
      "k: 2\n",
      "mean: 0.392753623188  std: 0.0174033774519\n",
      "k: 3\n",
      "mean: 0.392753623188  std: 0.0291661040543\n",
      "k: 4\n",
      "mean: 0.392753623188  std: 0.0241207492422\n",
      "k: 5\n",
      "mean: 0.392753623188  std: 0.0230885531258\n",
      "k: 6\n",
      "mean: 0.392753623188  std: 0.026255494219\n",
      "k: 7\n",
      "mean: 0.391884057971  std: 0.0258215158856\n",
      "k: 8\n",
      "mean: 0.379710144928  std: 0.0290434204055\n",
      "k: 9\n",
      "mean: 0.298260869565  std: 0.0187153025593\n",
      "k: 10\n",
      "mean: 0.24231884058  std: 0.0202151835063\n",
      "k: 11\n",
      "mean: 0.206666666667  std: 0.0250703693521\n",
      "k: 12\n",
      "mean: 0.179420289855  std: 0.00873902227924\n",
      "k: 13\n",
      "mean: 0.162898550725  std: 0.014423020643\n",
      "k: 14\n",
      "mean: 0.144637681159  std: 0.0149745986702\n",
      "k: 15\n",
      "mean: 0.131014492754  std: 0.0169905517562\n",
      "k: 16\n",
      "mean: 0.112173913043  std: 0.0106932560845\n",
      "k: 17\n",
      "mean: 0.102898550725  std: 0.0180200359912\n",
      "k: 18\n",
      "mean: 0.0965217391304  std: 0.0130949066644\n",
      "k: 19\n",
      "mean: 0.0852173913043  std: 0.0183869582924\n",
      "k: 20\n",
      "mean: 0.08  std: 0.0160444666703\n"
     ]
    }
   ],
   "source": [
    "d = 2\n",
    "x2, top2, middle2, bottom2 = start_calculation(d)"
   ]
  },
  {
   "cell_type": "code",
   "execution_count": 12,
   "metadata": {},
   "outputs": [
    {
     "data": {
      "image/png": "[encoded data removed]",
      "text/plain": [
       "<matplotlib.figure.Figure at 0x8491e10>"
      ]
     },
     "metadata": {},
     "output_type": "display_data"
    }
   ],
   "source": [
    "draw_error(x2, top2, middle2, bottom2)"
   ]
  },
  {
   "cell_type": "code",
   "execution_count": 13,
   "metadata": {},
   "outputs": [
    {
     "name": "stdout",
     "output_type": "stream",
     "text": [
      "k: -10\n",
      "mean: 0.392753623188  std: 0.0186162790995\n",
      "k: -9\n",
      "mean: 0.392753623188  std: 0.021622877567\n",
      "k: -8\n",
      "mean: 0.392753623188  std: 0.0174033774519\n",
      "k: -7\n",
      "mean: 0.392753623188  std: 0.0260305347978\n",
      "k: -6\n",
      "mean: 0.392753623188  std: 0.032465062086\n",
      "k: -5\n",
      "mean: 0.392753623188  std: 0.0175476068031\n",
      "k: -4\n",
      "mean: 0.392753623188  std: 0.016047084679\n",
      "k: -3\n",
      "mean: 0.392753623188  std: 0.0283184103924\n",
      "k: -2\n",
      "mean: 0.392753623188  std: 0.0230885531258\n",
      "k: -1\n",
      "mean: 0.392753623188  std: 0.02323365151\n",
      "k: 0\n",
      "mean: 0.392753623188  std: 0.0136108485587\n",
      "k: 1\n",
      "mean: 0.392753623188  std: 0.0245008990829\n",
      "k: 2\n",
      "mean: 0.392753623188  std: 0.0208312853436\n",
      "k: 3\n",
      "mean: 0.392753623188  std: 0.0186162790995\n",
      "k: 4\n",
      "mean: 0.392753623188  std: 0.020951930862\n",
      "k: 5\n",
      "mean: 0.392753623188  std: 0.0198820297271\n",
      "k: 6\n",
      "mean: 0.392753623188  std: 0.0245693853076\n",
      "k: 7\n",
      "mean: 0.392753623188  std: 0.0298775769972\n",
      "k: 8\n",
      "mean: 0.392753623188  std: 0.0270746981047\n",
      "k: 9\n",
      "mean: 0.392753623188  std: 0.0180200359912\n",
      "k: 10\n",
      "mean: 0.392753623188  std: 0.0168140927679\n",
      "k: 11\n",
      "mean: 0.392753623188  std: 0.0244322208845\n",
      "k: 12\n",
      "mean: 0.392753623188  std: 0.018525798471\n",
      "k: 13\n",
      "mean: 0.392753623188  std: 0.021309769595\n",
      "k: 14\n",
      "mean: 0.390434782609  std: 0.0213412871121\n",
      "k: 15\n",
      "mean: 0.390434782609  std: 0.0254693394217\n",
      "k: 16\n",
      "mean: 0.382028985507  std: 0.0295538483398\n",
      "k: 17\n",
      "mean: 0.337971014493  std: 0.0261577140236\n",
      "k: 18\n",
      "mean: 0.299130434783  std: 0.0138282439906\n",
      "k: 19\n",
      "mean: 0.25652173913  std: 0.0213491592212\n",
      "k: 20\n",
      "mean: 0.219710144928  std: 0.0218374587847\n"
     ]
    }
   ],
   "source": [
    "d = 3\n",
    "x3, top3, middle3, bottom3 = start_calculation(d)"
   ]
  },
  {
   "cell_type": "code",
   "execution_count": 14,
   "metadata": {},
   "outputs": [
    {
     "data": {
      "image/png": "[encoded data removed]",
      "text/plain": [
       "<matplotlib.figure.Figure at 0x7c447b8>"
      ]
     },
     "metadata": {},
     "output_type": "display_data"
    }
   ],
   "source": [
    "draw_error(x3, top3, middle3, bottom3)"
   ]
  },
  {
   "cell_type": "code",
   "execution_count": 15,
   "metadata": {},
   "outputs": [
    {
     "name": "stdout",
     "output_type": "stream",
     "text": [
      "k: -10\n",
      "mean: 0.392753623188  std: 0.0140960190328\n",
      "k: -9\n",
      "mean: 0.392753623188  std: 0.0166635157702\n",
      "k: -8\n",
      "mean: 0.392753623188  std: 0.0214668944479\n",
      "k: -7\n",
      "mean: 0.392753623188  std: 0.0319432914872\n",
      "k: -6\n",
      "mean: 0.392753623188  std: 0.0286135555245\n",
      "k: -5\n",
      "mean: 0.392753623188  std: 0.0201756620931\n",
      "k: -4\n",
      "mean: 0.392753623188  std: 0.035905778821\n",
      "k: -3\n",
      "mean: 0.392753623188  std: 0.0425060382184\n",
      "k: -2\n",
      "mean: 0.392753623188  std: 0.0158892406651\n",
      "k: -1\n",
      "mean: 0.392753623188  std: 0.0284663654767\n",
      "k: 0\n",
      "mean: 0.392753623188  std: 0.0176431046882\n",
      "k: 1\n",
      "mean: 0.392753623188  std: 0.0302686979712\n",
      "k: 2\n",
      "mean: 0.392753623188  std: 0.0258686517924\n",
      "k: 3\n",
      "mean: 0.392753623188  std: 0.0247737080381\n",
      "k: 4\n",
      "mean: 0.392753623188  std: 0.0166635157702\n",
      "k: 5\n",
      "mean: 0.392753623188  std: 0.0183892428122\n",
      "k: 6\n",
      "mean: 0.392753623188  std: 0.0207504653091\n",
      "k: 7\n",
      "mean: 0.392753623188  std: 0.0223113106063\n",
      "k: 8\n",
      "mean: 0.392753623188  std: 0.0257710338903\n",
      "k: 9\n",
      "mean: 0.392753623188  std: 0.0357885925462\n",
      "k: 10\n",
      "mean: 0.392753623188  std: 0.0225733651854\n",
      "k: 11\n",
      "mean: 0.392753623188  std: 0.0236990867519\n",
      "k: 12\n",
      "mean: 0.392753623188  std: 0.02154502717\n",
      "k: 13\n",
      "mean: 0.392753623188  std: 0.0299337643097\n",
      "k: 14\n",
      "mean: 0.392753623188  std: 0.0330549179283\n",
      "k: 15\n",
      "mean: 0.392753623188  std: 0.0313593183488\n",
      "k: 16\n",
      "mean: 0.392753623188  std: 0.0270125644644\n",
      "k: 17\n",
      "mean: 0.392753623188  std: 0.0131716727739\n",
      "k: 18\n",
      "mean: 0.392753623188  std: 0.0307369403862\n",
      "k: 19\n",
      "mean: 0.392753623188  std: 0.0245693853076\n",
      "k: 20\n",
      "mean: 0.391594202899  std: 0.0228397704558\n"
     ]
    }
   ],
   "source": [
    "d = 4\n",
    "x4, top4, middle4, bottom4 = start_calculation(d)"
   ]
  },
  {
   "cell_type": "code",
   "execution_count": 16,
   "metadata": {},
   "outputs": [
    {
     "data": {
      "image/png": "[encoded data removed]",
      "text/plain": [
       "<matplotlib.figure.Figure at 0x8483160>"
      ]
     },
     "metadata": {},
     "output_type": "display_data"
    }
   ],
   "source": [
    "draw_error(x4, top4, middle4, bottom4)"
   ]
  },
  {
   "cell_type": "code",
   "execution_count": 43,
   "metadata": {
    "collapsed": true
   },
   "outputs": [],
   "source": [
    "def start_calculation_with_c(dataset, c):\n",
    "    x = []\n",
    "    errors = []\n",
    "    counts = []\n",
    "    for d in xrange(1, 10):\n",
    "        print d\n",
    "        svm_params = svm_parameter('-s 0 -t 1 -q -d ' + str(d) + ' -c ' + str(c))\n",
    "        error, std, count = kfold_cross_validation(svm_params, dataset, k_fold_param)\n",
    "        errors.append(error)\n",
    "        counts.append(count)\n",
    "        x.append(d)\n",
    "    return x, errors, counts\n",
    "\n",
    "def draw_plot(x, y):\n",
    "    plt.plot(x, y)\n",
    "    plt.show()"
   ]
  },
  {
   "cell_type": "code",
   "execution_count": 47,
   "metadata": {},
   "outputs": [],
   "source": [
    "best_c = 2**14\n",
    "best_d = 1"
   ]
  },
  {
   "cell_type": "code",
   "execution_count": 55,
   "metadata": {},
   "outputs": [
    {
     "name": "stdout",
     "output_type": "stream",
     "text": [
      "1\n",
      "mean: 0.0666666666667  std: 0.00342961146846  count vectors:  624.4\n",
      "2\n",
      "mean: 0.145797101449  std: 0.0129659531863  count vectors:  1355.2\n",
      "3\n",
      "mean: 0.390434782609  std: 0.0303463172527  count vectors:  2458.8\n",
      "4\n",
      "mean: 0.392753623188  std: 0.0275667260594  count vectors:  2456.0\n",
      "5\n",
      "mean: 0.392753623188  std: 0.0351251251548  count vectors:  2439.7\n",
      "6\n",
      "mean: 0.392753623188  std: 0.0231249130745  count vectors:  2439.0\n",
      "7\n",
      "mean: 0.392753623188  std: 0.0192377316012  count vectors:  2439.1\n",
      "8\n",
      "mean: 0.392753623188  std: 0.02873076464  count vectors:  2439.0\n",
      "9\n",
      "mean: 0.392753623188  std: 0.0350293182933  count vectors:  2439.0\n"
     ]
    },
    {
     "data": {
      "image/png": "[encoded data removed]",
      "text/plain": [
       "<matplotlib.figure.Figure at 0x7831da0>"
      ]
     },
     "metadata": {},
     "output_type": "display_data"
    }
   ],
   "source": [
    "x, errors, count = start_calculation_with_c(train_data, best_c)\n",
    "draw_plot(x, errors)"
   ]
  },
  {
   "cell_type": "code",
   "execution_count": 45,
   "metadata": {},
   "outputs": [
    {
     "name": "stdout",
     "output_type": "stream",
     "text": [
      "1\n",
      "mean: 0.08449081534  std: 0.031280144996  count vectors:  239.8\n",
      "2\n",
      "mean: 0.194849454608  std: 0.0437693272064  count vectors:  574.1\n",
      "3\n",
      "mean: 0.395988661075  std: 0.0390460825931  count vectors:  838.9\n",
      "4\n",
      "mean: 0.39804713291  std: 0.0625973257468  count vectors:  836.8\n",
      "5\n",
      "mean: 0.397582984209  std: 0.031900372281  count vectors:  824.6\n",
      "6\n",
      "mean: 0.398134583483  std: 0.0479229349261  count vectors:  824.6\n",
      "7\n",
      "mean: 0.397951840652  std: 0.0332041756617  count vectors:  824.4\n",
      "8\n",
      "mean: 0.397843370685  std: 0.0339922662623  count vectors:  824.4\n",
      "9\n",
      "mean: 0.397655494683  std: 0.029697203964  count vectors:  824.4\n"
     ]
    },
    {
     "data": {
      "image/png": "[encoded data removed]",
      "text/plain": [
       "<matplotlib.figure.Figure at 0x7c2d1d0>"
      ]
     },
     "metadata": {},
     "output_type": "display_data"
    }
   ],
   "source": [
    "x, errors, count = start_calculation_with_c(test_data, best_c)\n",
    "draw_plot(x, errors)"
   ]
  },
  {
   "cell_type": "code",
   "execution_count": 46,
   "metadata": {},
   "outputs": [
    {
     "name": "stdout",
     "output_type": "stream",
     "text": [
      "1\n",
      "mean: 0.0893006767644  std: 0.031382864963  count vectors:  238.7\n",
      "2\n",
      "mean: 0.192794169067  std: 0.0429915256061  count vectors:  574.3\n",
      "3\n",
      "mean: 0.396249341138  std: 0.0441377040017  count vectors:  838.2\n",
      "4\n",
      "mean: 0.39780051563  std: 0.0474683858203  count vectors:  833.7\n",
      "5\n",
      "mean: 0.3977253077  std: 0.0421339549601  count vectors:  824.4\n",
      "6\n",
      "mean: 0.398109551419  std: 0.0471790769084  count vectors:  824.4\n",
      "7\n",
      "mean: 0.397945536578  std: 0.0394220149389  count vectors:  824.4\n",
      "8\n",
      "mean: 0.398162815213  std: 0.0437333805141  count vectors:  824.4\n",
      "9\n",
      "mean: 0.398143862645  std: 0.0572661795435  count vectors:  824.4\n"
     ]
    },
    {
     "data": {
      "image/png": "[encoded data removed]",
      "text/plain": [
       "<matplotlib.figure.Figure at 0x8468390>"
      ]
     },
     "metadata": {},
     "output_type": "display_data"
    }
   ],
   "source": [
    "x, errors, counts = start_calculation_with_c(test_data, best_c)\n",
    "draw_plot(x, counts)"
   ]
  },
  {
   "cell_type": "code",
   "execution_count": 54,
   "metadata": {},
   "outputs": [
    {
     "name": "stdout",
     "output_type": "stream",
     "text": [
      "Accuracy = 91.9201% (1058/1151) (classification)\n",
      "count support vectors:  688\n"
     ]
    }
   ],
   "source": [
    "# итоговое решение с наилучшими параметрами d=1, C=2^14\n",
    "y_train = [row[0] for row in train_data]\n",
    "x_train = [row[1] for row in train_data]\n",
    "prob = svm_problem(y_train, x_train)\n",
    "svm_params = svm_parameter('-s 0 -t 1 -d ' + str(best_d) + ' -c ' + str(best_c))\n",
    "trainedClassifier = svm_train(prob, svm_params)\n",
    "y_test = [row[0] for row in test_data]\n",
    "x_test = [row[1] for row in test_data]\n",
    "p_labels, p_acc, p_vals = svm_predict(y_test, x_test, trainedClassifier)\n",
    "print 'count support vectors: ', trainedClassifier.get_nr_sv()"
   ]
  },
  {
   "cell_type": "code",
   "execution_count": 56,
   "metadata": {
    "collapsed": true
   },
   "outputs": [],
   "source": [
    "# количество опорных векторов говорит о том, какую погрешность мы разрешаем алгоритму для разделения выборки.\n",
    "# чем большее количество опорных векторов в итоговом решении, тем большая погрешность возможна.\n",
    "# заметим, что для других параметров обучения, количество векторов на тренировочных данных больше, чем на оптимальном.\n",
    "# также количество опорных векторов зависит от сложности модели. чем модель сложнее,\n",
    "# тем больше опорных векторов мы будем получать."
   ]
  },
  {
   "cell_type": "code",
   "execution_count": null,
   "metadata": {
    "collapsed": true
   },
   "outputs": [],
   "source": []
  }
 ],
 "metadata": {
  "kernelspec": {
   "display_name": "Python 2",
   "language": "python",
   "name": "python2"
  },
  "language_info": {
   "codemirror_mode": {
    "name": "ipython",
    "version": 2
   },
   "file_extension": ".py",
   "mimetype": "text/x-python",
   "name": "python",
   "nbconvert_exporter": "python",
   "pygments_lexer": "ipython2",
   "version": "2.7.13"
  }
 },
 "nbformat": 4,
 "nbformat_minor": 2
}
