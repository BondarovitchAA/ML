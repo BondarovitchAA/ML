{
 "cells": [
  {
   "cell_type": "code",
   "execution_count": 32,
   "metadata": {
    "collapsed": true
   },
   "outputs": [],
   "source": [
    "import random\n",
    "import math\n",
    "import matplotlib.pyplot as plt\n",
    "from matplotlib.patches import Rectangle"
   ]
  },
  {
   "cell_type": "code",
   "execution_count": 33,
   "metadata": {
    "collapsed": true
   },
   "outputs": [],
   "source": [
    "def get_separable_line_y(x, line_x1, line_x2, min_y, max_y):\n",
    "    y = min_y + (x - line_x1) * (max_y - min_y) / (line_x2 - line_x1)\n",
    "    return y\n",
    "\n",
    "\n",
    "def generate_positive_point(min_x, line_x1, line_x2, min_y, max_y):\n",
    "    x = random.uniform(min_x, max(line_x1, line_x2))\n",
    "    if x < min(line_x1, line_x2):\n",
    "        y = random.uniform(min_y, max_y)\n",
    "    else:\n",
    "        if line_x1 < line_x2:\n",
    "            y = random.uniform(get_separable_line_y(x, line_x1, line_x2, min_y, max_y), max_y)\n",
    "        else:\n",
    "            y = random.uniform(min_y, get_separable_line_y(x, line_x1, line_x2, min_y, max_y))\n",
    "    return x, y\n",
    "\n",
    "\n",
    "def generate_negative_point(max_x, line_x1, line_x2, min_y, max_y):\n",
    "    x = random.uniform(min(line_x1, line_x2), max_x)\n",
    "    if x > max(line_x1, line_x2):\n",
    "        y = random.uniform(min_y, max_y)\n",
    "    else:\n",
    "        if line_x1 < line_x2:\n",
    "            y = random.uniform(min_y, get_separable_line_y(x, line_x1, line_x2, min_y, max_y))\n",
    "        else:\n",
    "            y = random.uniform(get_separable_line_y(x, line_x1, line_x2, min_y, max_y), max_y)\n",
    "    return x, y\n",
    "\n",
    "\n",
    "def generate_linearly_separable_sample(min_x, max_x, min_y, max_y, n, p):\n",
    "    if min_x >= max_x or min_y > max_y:\n",
    "        raise ValueError(\"illegal rectangle bounds\")\n",
    "    line_x1 = random.uniform(min_x, max_x)\n",
    "    line_x2 = random.uniform(min_x, max_x)\n",
    "    positive_points = []\n",
    "    for i in xrange(1, p + 1):\n",
    "        positive_points.append((generate_positive_point(min_x, line_x1, line_x2, min_y, max_y), 1))\n",
    "    negative_points = []\n",
    "    for i in xrange(1, n + 1):\n",
    "        negative_points.append((generate_negative_point(max_x, line_x1, line_x2, min_y, max_y), -1))\n",
    "    sample = positive_points + negative_points\n",
    "    return sample\n",
    "\n",
    "    \n",
    "def draw_sample(sample, min_x, max_x, min_y, max_y):\n",
    "    x = [point[0][0] for point in sample]\n",
    "    y = [point[0][1] for point in sample]\n",
    "    fig = plt.figure()\n",
    "    rec = fig.add_subplot(111, aspect='equal')\n",
    "    rec.add_patch(Rectangle((min_x, min_y), max_x-min_x, max_y-min_y, alpha=0.4,facecolor=\"y\"))\n",
    "    sample_plot = fig.add_subplot(111, aspect='equal')\n",
    "    sample_plot.plot(x, y, marker='.', linestyle='none')\n",
    "    plt.show()"
   ]
  },
  {
   "cell_type": "code",
   "execution_count": 38,
   "metadata": {
    "collapsed": true,
    "scrolled": true
   },
   "outputs": [],
   "source": [
    "def check(point, w):\n",
    "    result = w[0]*point[1]\n",
    "    for i in xrange(len(point)):\n",
    "        result += w[i + 1] * point[0][i]*point[1]\n",
    "    return result\n",
    "\n",
    "def batch_perceptron(sample):\n",
    "    w = [0.0 for i in xrange(3)]\n",
    "    stop = False\n",
    "    step_count = 0\n",
    "    while not stop:\n",
    "        step_count += 1\n",
    "        stop = True\n",
    "        for point in sample:\n",
    "            if (check(point, w) <= 0):\n",
    "                stop = False\n",
    "                w[0] += point[1]\n",
    "                for i in xrange(len(w)-1):\n",
    "                    w[i + 1] += point[0][i]*point[1]\n",
    "    else:\n",
    "        min_indention = min([check(point, w) for point in sample])\n",
    "    return (w, min_indention, step_count)\n",
    "    "
   ]
  },
  {
   "cell_type": "code",
   "execution_count": 40,
   "metadata": {},
   "outputs": [
    {
     "data": {
      "image/png": "[encoded data removed]",
      "text/plain": [
       "<matplotlib.figure.Figure at 0x8e84d68>"
      ]
     },
     "metadata": {},
     "output_type": "display_data"
    },
    {
     "name": "stdout",
     "output_type": "stream",
     "text": [
      "w: [-38.0, -10.794070604061606, 4.544320562243191]  min indention: 1.90948876798  step count: 45\n"
     ]
    }
   ],
   "source": [
    "min_x = -10\n",
    "max_x = 1\n",
    "min_y = -10\n",
    "max_y = 1\n",
    "k = 10\n",
    "p = n = k\n",
    "sample = generate_linearly_separable_sample(min_x, max_x, min_y, max_y, p, n)\n",
    "draw_sample(sample, min_x, max_x, min_y, max_y)\n",
    "perceptron_result = batch_perceptron(sample)\n",
    "print \"w:\", perceptron_result[0], \" min indention:\", perceptron_result[1], \" step count:\", perceptron_result[2]"
   ]
  },
  {
   "cell_type": "code",
   "execution_count": 41,
   "metadata": {
    "collapsed": true
   },
   "outputs": [],
   "source": [
    "def get_count_steps_in_average(k, min_x, max_x, min_y, max_y):\n",
    "    p=n=k\n",
    "    count_of_iterations = 100\n",
    "    steps_in_average = 0;\n",
    "    for i in xrange(count_of_iterations + 1):\n",
    "        sample = generate_linearly_separable_sample(min_x, max_x, min_y, max_y, p, n)\n",
    "        perceptron_result = batch_perceptron(sample)\n",
    "        steps_in_average += perceptron_result[2]\n",
    "    steps_in_average /= count_of_iterations\n",
    "    return k, steps_in_average"
   ]
  },
  {
   "cell_type": "code",
   "execution_count": null,
   "metadata": {},
   "outputs": [],
   "source": [
    "min_x = -10\n",
    "max_x = 1\n",
    "min_y = -10\n",
    "max_y = 1\n",
    "steps = [get_count_steps_in_average(k, min_x, max_x, min_y, max_y) for k in xrange(1, 101)]\n",
    "print steps"
   ]
  },
  {
   "cell_type": "code",
   "execution_count": null,
   "metadata": {
    "collapsed": true
   },
   "outputs": [],
   "source": []
  }
 ],
 "metadata": {
  "kernelspec": {
   "display_name": "Python 2",
   "language": "python",
   "name": "python2"
  },
  "language_info": {
   "codemirror_mode": {
    "name": "ipython",
    "version": 2
   },
   "file_extension": ".py",
   "mimetype": "text/x-python",
   "name": "python",
   "nbconvert_exporter": "python",
   "pygments_lexer": "ipython2",
   "version": "2.7.13"
  }
 },
 "nbformat": 4,
 "nbformat_minor": 2
}
